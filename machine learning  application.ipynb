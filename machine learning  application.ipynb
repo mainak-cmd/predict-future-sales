{
 "cells": [
  {
   "cell_type": "code",
   "execution_count": 1,
   "metadata": {},
   "outputs": [
    {
     "name": "stdout",
     "output_type": "stream",
     "text": [
      "Requirement already satisfied: dask in c:\\users\\user\\appdata\\local\\programs\\python\\python38\\lib\\site-packages (2021.4.0)Note: you may need to restart the kernel to use updated packages.\n",
      "Requirement already satisfied: toolz>=0.8.2 in c:\\users\\user\\appdata\\local\\programs\\python\\python38\\lib\\site-packages (from dask) (0.11.1)\n",
      "Requirement already satisfied: cloudpickle>=1.1.1 in c:\\users\\user\\appdata\\local\\programs\\python\\python38\\lib\\site-packages (from dask) (1.6.0)\n",
      "Requirement already satisfied: fsspec>=0.6.0 in c:\\users\\user\\appdata\\local\\programs\\python\\python38\\lib\\site-packages (from dask) (0.8.7)\n",
      "Requirement already satisfied: partd>=0.3.10 in c:\\users\\user\\appdata\\local\\programs\\python\\python38\\lib\\site-packages (from dask) (1.1.0)\n",
      "Requirement already satisfied: pyyaml in c:\\users\\user\\appdata\\local\\programs\\python\\python38\\lib\\site-packages (from dask) (5.4.1)\n",
      "Requirement already satisfied: locket in c:\\users\\user\\appdata\\local\\programs\\python\\python38\\lib\\site-packages (from partd>=0.3.10->dask) (0.2.1)\n",
      "\n"
     ]
    }
   ],
   "source": [
    "pip install dask"
   ]
  },
  {
   "cell_type": "code",
   "execution_count": 2,
   "metadata": {},
   "outputs": [
    {
     "name": "stdout",
     "output_type": "stream",
     "text": [
      "Requirement already satisfied: dask-ml in c:\\users\\user\\appdata\\local\\programs\\python\\python38\\lib\\site-packages (1.8.0)Note: you may need to restart the kernel to use updated packages.\n",
      "\n",
      "Requirement already satisfied: dask-glm>=0.2.0 in c:\\users\\user\\appdata\\local\\programs\\python\\python38\\lib\\site-packages (from dask-ml) (0.2.0)\n",
      "Requirement already satisfied: packaging in c:\\users\\user\\appdata\\local\\programs\\python\\python38\\lib\\site-packages (from dask-ml) (20.9)\n",
      "Requirement already satisfied: numpy>=1.17.3 in c:\\users\\user\\appdata\\local\\programs\\python\\python38\\lib\\site-packages (from dask-ml) (1.18.2)\n",
      "Requirement already satisfied: scikit-learn>=0.23 in c:\\users\\user\\appdata\\local\\programs\\python\\python38\\lib\\site-packages (from dask-ml) (0.23.2)\n",
      "Requirement already satisfied: pandas>=0.24.2 in c:\\users\\user\\appdata\\local\\programs\\python\\python38\\lib\\site-packages (from dask-ml) (1.1.0)\n",
      "Requirement already satisfied: scipy in c:\\users\\user\\appdata\\local\\programs\\python\\python38\\lib\\site-packages (from dask-ml) (1.5.2)\n",
      "Requirement already satisfied: distributed>=2.4.0 in c:\\users\\user\\appdata\\local\\programs\\python\\python38\\lib\\site-packages (from dask-ml) (2021.4.0)\n",
      "Requirement already satisfied: numba in c:\\users\\user\\appdata\\local\\programs\\python\\python38\\lib\\site-packages (from dask-ml) (0.51.0)\n",
      "Requirement already satisfied: multipledispatch>=0.4.9 in c:\\users\\user\\appdata\\local\\programs\\python\\python38\\lib\\site-packages (from dask-ml) (0.6.0)\n",
      "Requirement already satisfied: dask[array,dataframe]>=2.4.0 in c:\\users\\user\\appdata\\local\\programs\\python\\python38\\lib\\site-packages (from dask-ml) (2021.4.0)\n",
      "Requirement already satisfied: cloudpickle>=0.2.2 in c:\\users\\user\\appdata\\local\\programs\\python\\python38\\lib\\site-packages (from dask-glm>=0.2.0->dask-ml) (1.6.0)\n",
      "Requirement already satisfied: fsspec>=0.6.0 in c:\\users\\user\\appdata\\local\\programs\\python\\python38\\lib\\site-packages (from dask[array,dataframe]>=2.4.0->dask-ml) (0.8.7)\n",
      "Requirement already satisfied: partd>=0.3.10 in c:\\users\\user\\appdata\\local\\programs\\python\\python38\\lib\\site-packages (from dask[array,dataframe]>=2.4.0->dask-ml) (1.1.0)\n",
      "Requirement already satisfied: toolz>=0.8.2 in c:\\users\\user\\appdata\\local\\programs\\python\\python38\\lib\\site-packages (from dask[array,dataframe]>=2.4.0->dask-ml) (0.11.1)\n",
      "Requirement already satisfied: pyyaml in c:\\users\\user\\appdata\\local\\programs\\python\\python38\\lib\\site-packages (from dask[array,dataframe]>=2.4.0->dask-ml) (5.4.1)\n",
      "Requirement already satisfied: tornado>=6.0.3 in c:\\users\\user\\appdata\\local\\programs\\python\\python38\\lib\\site-packages (from distributed>=2.4.0->dask-ml) (6.0.4)\n",
      "Requirement already satisfied: msgpack>=0.6.0 in c:\\users\\user\\appdata\\local\\programs\\python\\python38\\lib\\site-packages (from distributed>=2.4.0->dask-ml) (1.0.2)\n",
      "Requirement already satisfied: sortedcontainers!=2.0.0,!=2.0.1 in c:\\users\\user\\appdata\\local\\programs\\python\\python38\\lib\\site-packages (from distributed>=2.4.0->dask-ml) (2.3.0)\n",
      "Requirement already satisfied: psutil>=5.0 in c:\\users\\user\\appdata\\local\\programs\\python\\python38\\lib\\site-packages (from distributed>=2.4.0->dask-ml) (5.8.0)\n",
      "Requirement already satisfied: zict>=0.1.3 in c:\\users\\user\\appdata\\local\\programs\\python\\python38\\lib\\site-packages (from distributed>=2.4.0->dask-ml) (2.0.0)\n",
      "Requirement already satisfied: click>=6.6 in c:\\users\\user\\appdata\\local\\programs\\python\\python38\\lib\\site-packages (from distributed>=2.4.0->dask-ml) (7.1.1)\n",
      "Requirement already satisfied: setuptools in c:\\users\\user\\appdata\\local\\programs\\python\\python38\\lib\\site-packages (from distributed>=2.4.0->dask-ml) (41.2.0)\n",
      "Requirement already satisfied: tblib>=1.6.0 in c:\\users\\user\\appdata\\local\\programs\\python\\python38\\lib\\site-packages (from distributed>=2.4.0->dask-ml) (1.7.0)\n",
      "Requirement already satisfied: six in c:\\users\\user\\appdata\\local\\programs\\python\\python38\\lib\\site-packages (from multipledispatch>=0.4.9->dask-ml) (1.14.0)\n",
      "Requirement already satisfied: python-dateutil>=2.7.3 in c:\\users\\user\\appdata\\local\\programs\\python\\python38\\lib\\site-packages (from pandas>=0.24.2->dask-ml) (2.8.1)\n",
      "Requirement already satisfied: pytz>=2017.2 in c:\\users\\user\\appdata\\local\\programs\\python\\python38\\lib\\site-packages (from pandas>=0.24.2->dask-ml) (2019.3)\n",
      "Requirement already satisfied: locket in c:\\users\\user\\appdata\\local\\programs\\python\\python38\\lib\\site-packages (from partd>=0.3.10->dask[array,dataframe]>=2.4.0->dask-ml) (0.2.1)\n",
      "Requirement already satisfied: threadpoolctl>=2.0.0 in c:\\users\\user\\appdata\\local\\programs\\python\\python38\\lib\\site-packages (from scikit-learn>=0.23->dask-ml) (2.1.0)\n",
      "Requirement already satisfied: joblib>=0.11 in c:\\users\\user\\appdata\\local\\programs\\python\\python38\\lib\\site-packages (from scikit-learn>=0.23->dask-ml) (0.16.0)\n",
      "Requirement already satisfied: heapdict in c:\\users\\user\\appdata\\local\\programs\\python\\python38\\lib\\site-packages (from zict>=0.1.3->distributed>=2.4.0->dask-ml) (1.0.1)\n",
      "Requirement already satisfied: llvmlite<0.35,>=0.34.0.dev0 in c:\\users\\user\\appdata\\local\\programs\\python\\python38\\lib\\site-packages (from numba->dask-ml) (0.34.0)\n",
      "Requirement already satisfied: pyparsing>=2.0.2 in c:\\users\\user\\appdata\\local\\programs\\python\\python38\\lib\\site-packages (from packaging->dask-ml) (2.4.7)\n"
     ]
    }
   ],
   "source": [
    "pip install dask-ml"
   ]
  },
  {
   "cell_type": "code",
   "execution_count": 1,
   "metadata": {},
   "outputs": [
    {
     "output_type": "execute_result",
     "data": {
      "text/plain": [
       "<Client: 'inproc://10.16.237.160/6636/1' processes=1 threads=4, memory=7.45 GiB>"
      ],
      "text/html": "<table style=\"border: 2px solid white;\">\n<tr>\n<td style=\"vertical-align: top; border: 0px solid white\">\n<h3 style=\"text-align: left;\">Client</h3>\n<ul style=\"text-align: left; list-style: none; margin: 0; padding: 0;\">\n  <li><b>Scheduler: </b>inproc://10.16.237.160/6636/1</li>\n  <li><b>Dashboard: </b><a href='http://10.16.237.160:8787/status' target='_blank'>http://10.16.237.160:8787/status</a></li>\n</ul>\n</td>\n<td style=\"vertical-align: top; border: 0px solid white\">\n<h3 style=\"text-align: left;\">Cluster</h3>\n<ul style=\"text-align: left; list-style:none; margin: 0; padding: 0;\">\n  <li><b>Workers: </b>1</li>\n  <li><b>Cores: </b>4</li>\n  <li><b>Memory: </b>7.45 GiB</li>\n</ul>\n</td>\n</tr>\n</table>"
     },
     "metadata": {},
     "execution_count": 1
    }
   ],
   "source": [
    "from dask.distributed import Client\n",
    "\n",
    "client = Client(n_workers=1, threads_per_worker=4, processes=False, memory_limit='8GB')\n",
    "client"
   ]
  },
  {
   "cell_type": "code",
   "execution_count": 2,
   "metadata": {},
   "outputs": [],
   "source": [
    "import pandas as pd\n",
    "import dask.dataframe as dd"
   ]
  },
  {
   "cell_type": "code",
   "execution_count": 3,
   "metadata": {},
   "outputs": [],
   "source": [
    "df_x = dd.read_csv('train_x.csv')\n",
    "df_x = df_x.drop('Unnamed: 0', axis=1)"
   ]
  },
  {
   "cell_type": "code",
   "execution_count": 5,
   "metadata": {},
   "outputs": [],
   "source": [
    "df_y = dd.read_csv('train_y.csv')\n",
    "df_y = df_y.drop('Unnamed: 0', axis=1)\n"
   ]
  },
  {
   "cell_type": "code",
   "execution_count": 6,
   "metadata": {},
   "outputs": [
    {
     "output_type": "execute_result",
     "data": {
      "text/plain": [
       "   item_cnt_day\n",
       "0           1.0\n",
       "1           1.0\n",
       "2           1.0"
      ],
      "text/html": "<div>\n<style scoped>\n    .dataframe tbody tr th:only-of-type {\n        vertical-align: middle;\n    }\n\n    .dataframe tbody tr th {\n        vertical-align: top;\n    }\n\n    .dataframe thead th {\n        text-align: right;\n    }\n</style>\n<table border=\"1\" class=\"dataframe\">\n  <thead>\n    <tr style=\"text-align: right;\">\n      <th></th>\n      <th>item_cnt_day</th>\n    </tr>\n  </thead>\n  <tbody>\n    <tr>\n      <th>0</th>\n      <td>1.0</td>\n    </tr>\n    <tr>\n      <th>1</th>\n      <td>1.0</td>\n    </tr>\n    <tr>\n      <th>2</th>\n      <td>1.0</td>\n    </tr>\n  </tbody>\n</table>\n</div>"
     },
     "metadata": {},
     "execution_count": 6
    }
   ],
   "source": [
    "df_y.compute().head(3)"
   ]
  },
  {
   "cell_type": "code",
   "execution_count": 7,
   "metadata": {},
   "outputs": [
    {
     "output_type": "execute_result",
     "data": {
      "text/plain": [
       "(1902217, 5)"
      ]
     },
     "metadata": {},
     "execution_count": 7
    }
   ],
   "source": [
    "df_x.compute().shape"
   ]
  },
  {
   "cell_type": "code",
   "execution_count": 8,
   "metadata": {},
   "outputs": [
    {
     "output_type": "execute_result",
     "data": {
      "text/plain": [
       "Index(['shop_name', 'item_category_name', 'item_name', 'date_block_num',\n",
       "       'item_price'],\n",
       "      dtype='object')"
      ]
     },
     "metadata": {},
     "execution_count": 8
    }
   ],
   "source": [
    "df_x.columns"
   ]
  },
  {
   "cell_type": "code",
   "execution_count": 9,
   "metadata": {},
   "outputs": [],
   "source": [
    "from dask_ml.model_selection import train_test_split\n",
    "X_train, X_test, y_train, y_test = train_test_split(df_x,df_y,shuffle=False)\n"
   ]
  },
  {
   "cell_type": "code",
   "execution_count": 10,
   "metadata": {},
   "outputs": [
    {
     "output_type": "execute_result",
     "data": {
      "text/plain": [
       "(1711838, 5)"
      ]
     },
     "metadata": {},
     "execution_count": 10
    }
   ],
   "source": [
    "X_train.compute().shape"
   ]
  },
  {
   "cell_type": "code",
   "execution_count": 11,
   "metadata": {},
   "outputs": [],
   "source": [
    "import joblib as jo"
   ]
  },
  {
   "cell_type": "code",
   "execution_count": 12,
   "metadata": {},
   "outputs": [],
   "source": [
    "from sklearn.ensemble import ExtraTreesClassifier\n",
    "clf = ExtraTreesClassifier(n_estimators=100,ccp_alpha=0.0, random_state=0)"
   ]
  },
  {
   "cell_type": "code",
   "execution_count": null,
   "metadata": {},
   "outputs": [],
   "source": [
    "with jo.parallel_backend('dask'):\n",
    "    clf.fit(X_train,y_train)"
   ]
  },
  {
   "cell_type": "code",
   "execution_count": null,
   "metadata": {},
   "outputs": [],
   "source": [
    "\n",
    "y_pred =neigh.predict(X_test)\n",
    "\n"
   ]
  },
  {
   "cell_type": "code",
   "execution_count": null,
   "metadata": {},
   "outputs": [],
   "source": [
    "y_pred"
   ]
  },
  {
   "cell_type": "code",
   "execution_count": null,
   "metadata": {},
   "outputs": [],
   "source": [
    "from sklearn.metrics import accuracy_score\n",
    "accuracy_score(y_test, y_pred)"
   ]
  },
  {
   "cell_type": "code",
   "execution_count": null,
   "metadata": {},
   "outputs": [],
   "source": [
    "with jo.parallel_backend('dask'):\n",
    "    neigh.fit(df_x,df_y)"
   ]
  },
  {
   "cell_type": "code",
   "execution_count": null,
   "metadata": {},
   "outputs": [],
   "source": [
    "df_x_1 = dd.read_csv('m_test.csv')"
   ]
  },
  {
   "cell_type": "code",
   "execution_count": null,
   "metadata": {},
   "outputs": [],
   "source": [
    "with jo.parallel_backend('dask'):\n",
    "    neigh.fit(df_x_1,df_y)"
   ]
  },
  {
   "cell_type": "code",
   "execution_count": null,
   "metadata": {},
   "outputs": [],
   "source": [
    "y_pred_f =neigh.predict(df_x_1)"
   ]
  },
  {
   "cell_type": "code",
   "execution_count": null,
   "metadata": {},
   "outputs": [],
   "source": [
    "pred=pd.DataFrame(y_pred_f)"
   ]
  },
  {
   "cell_type": "code",
   "execution_count": null,
   "metadata": {},
   "outputs": [],
   "source": [
    "pred"
   ]
  },
  {
   "cell_type": "code",
   "execution_count": null,
   "metadata": {},
   "outputs": [],
   "source": [
    "df_x_2 = pd.read_csv('sample_submission.csv')"
   ]
  },
  {
   "cell_type": "code",
   "execution_count": null,
   "metadata": {},
   "outputs": [],
   "source": [
    "df_x_2"
   ]
  },
  {
   "cell_type": "code",
   "execution_count": 71,
   "metadata": {},
   "outputs": [
    {
     "data": {
      "text/plain": [
       "Index(['ID', 'item_cnt_month'], dtype='object')"
      ]
     },
     "execution_count": 71,
     "metadata": {},
     "output_type": "execute_result"
    }
   ],
   "source": [
    "df_x_2.columns"
   ]
  },
  {
   "cell_type": "code",
   "execution_count": 72,
   "metadata": {},
   "outputs": [],
   "source": [
    "datasets=pd.concat([df_x_2['ID'],pred],axis=1)"
   ]
  },
  {
   "cell_type": "code",
   "execution_count": 73,
   "metadata": {},
   "outputs": [],
   "source": [
    "datasets.columns=['ID', 'item_cnt_month']"
   ]
  },
  {
   "cell_type": "code",
   "execution_count": 74,
   "metadata": {},
   "outputs": [],
   "source": [
    "datasets.to_csv('sample_submission.csv',index=False)"
   ]
  },
  {
   "cell_type": "code",
   "execution_count": null,
   "metadata": {},
   "outputs": [],
   "source": []
  }
 ],
 "metadata": {
  "kernelspec": {
   "name": "python38264bit3cc16507011a48e5ad6af447e61a847b",
   "display_name": "Python 3.8.2 64-bit"
  },
  "language_info": {
   "codemirror_mode": {
    "name": "ipython",
    "version": 3
   },
   "file_extension": ".py",
   "mimetype": "text/x-python",
   "name": "python",
   "nbconvert_exporter": "python",
   "pygments_lexer": "ipython3",
   "version": "3.8.2"
  },
  "metadata": {
   "interpreter": {
    "hash": "4447cc7378cf30879333494e5d460e5c62c12902847286c87503f98d25a71d26"
   }
  }
 },
 "nbformat": 4,
 "nbformat_minor": 4
}